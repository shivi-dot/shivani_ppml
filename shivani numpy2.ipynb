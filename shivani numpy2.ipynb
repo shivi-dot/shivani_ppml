{
 "cells": [
  {
   "cell_type": "code",
   "execution_count": 1,
   "id": "4e67e138",
   "metadata": {},
   "outputs": [],
   "source": [
    "import numpy as hah\n",
    "arr=hah.array([[-1,2,0,4],\n",
    "             [4,-0.5,6,0],\n",
    "             [2.6,0,7,8],\n",
    "             [3,-7,4,2.0]])"
   ]
  },
  {
   "cell_type": "code",
   "execution_count": 2,
   "id": "959a9cb0",
   "metadata": {},
   "outputs": [
    {
     "name": "stdout",
     "output_type": "stream",
     "text": [
      "Original array:\n",
      " [[-1.   2.   0.   4. ]\n",
      " [ 4.  -0.5  6.   0. ]\n",
      " [ 2.6  0.   7.   8. ]\n",
      " [ 3.  -7.   4.   2. ]]\n"
     ]
    }
   ],
   "source": [
    "#Original array\n",
    "print(\"Original array:\\n\",arr)\n"
   ]
  },
  {
   "cell_type": "code",
   "execution_count": 3,
   "id": "da987987",
   "metadata": {},
   "outputs": [
    {
     "name": "stdout",
     "output_type": "stream",
     "text": [
      "\n",
      "Every other rows:arr[0:3:2]:\n",
      " [[-1.   2.   0.   4. ]\n",
      " [ 2.6  0.   7.   8. ]]\n"
     ]
    }
   ],
   "source": [
    "#return every other rows\n",
    "print(\"\\nEvery other rows:arr[0:3:2]:\\n\",arr[0:3:2])\n"
   ]
  },
  {
   "cell_type": "code",
   "execution_count": 4,
   "id": "96d38e48",
   "metadata": {},
   "outputs": [
    {
     "name": "stdout",
     "output_type": "stream",
     "text": [
      "\n",
      "Array with first 2 rows and 3 columns:arr[:2,:3]:\n",
      " [[-1.   2.   0. ]\n",
      " [ 4.  -0.5  6. ]]\n"
     ]
    }
   ],
   "source": [
    "#slicing array\n",
    "temp=arr[:2,:3]\n",
    "print(\"\\nArray with first 2 rows and 3 columns:arr[:2,:3]:\\n\",temp)\n"
   ]
  },
  {
   "cell_type": "code",
   "execution_count": 5,
   "id": "5a859bdc",
   "metadata": {},
   "outputs": [
    {
     "name": "stdout",
     "output_type": "stream",
     "text": [
      "\n",
      "Elements at indices(0,3),(1,2),(2,1),(3,0):\n",
      " [4. 6. 0. 3.]\n"
     ]
    }
   ],
   "source": [
    "#integer array indexing example\n",
    "temp=arr[[0,1,2,3],[3,2,1,0]]\n",
    "print(\"\\nElements at indices(0,3),(1,2),(2,1),\"\n",
    "     \"(3,0):\\n\",temp)\n"
   ]
  },
  {
   "cell_type": "code",
   "execution_count": 6,
   "id": "c16c1075",
   "metadata": {},
   "outputs": [],
   "source": [
    "#boolean array indexing example\n",
    "cond=arr>2\n"
   ]
  },
  {
   "cell_type": "code",
   "execution_count": 7,
   "id": "dd472e5c",
   "metadata": {},
   "outputs": [
    {
     "name": "stdout",
     "output_type": "stream",
     "text": [
      "\n",
      "Elements greater than 2:\n",
      " [4.  4.  6.  2.6 7.  8.  3.  4. ]\n"
     ]
    }
   ],
   "source": [
    "#cond is a bollean array\n",
    "temp=arr[cond]\n",
    "print(\"\\nElements greater than 2:\\n\",temp)\n"
   ]
  },
  {
   "cell_type": "code",
   "execution_count": 8,
   "id": "bd6d6dbb",
   "metadata": {},
   "outputs": [
    {
     "name": "stdout",
     "output_type": "stream",
     "text": [
      "\n",
      "original array: [1 2 3 4 5 6 7]\n",
      "\n",
      "Return every other element from the entire array:arr[::2]: [1 3 5 7]\n"
     ]
    }
   ],
   "source": [
    "#Return every other element from the entire array:\n",
    "arr=hah.array([1,2,3,4,5,6,7])\n",
    "print(\"\\noriginal array:\",arr)\n",
    "print(\"\\nReturn every other element from the entire array:arr[::2]:\",arr[::2])\n"
   ]
  },
  {
   "cell_type": "code",
   "execution_count": 9,
   "id": "da4e5dcc",
   "metadata": {},
   "outputs": [
    {
     "name": "stdout",
     "output_type": "stream",
     "text": [
      "\n",
      "Original arrays:\n",
      " [1 2 3] [4 5 6]\n",
      "\n",
      "Joined array:\n",
      " [1 2 3 4 5 6]\n"
     ]
    }
   ],
   "source": [
    "#joining two array\n",
    "arr1=hah.array([1,2,3])\n",
    "arr2=hah.array([4,5,6])\n",
    "arr=hah.concatenate((arr1,arr2))\n",
    "print(\"\\nOriginal arrays:\\n\",arr1,arr2)\n",
    "print(\"\\nJoined array:\\n\",arr)\n"
   ]
  },
  {
   "cell_type": "code",
   "execution_count": 10,
   "id": "b1f10e03",
   "metadata": {},
   "outputs": [
    {
     "name": "stdout",
     "output_type": "stream",
     "text": [
      "\n",
      "Horizontal joining:\n",
      " [1 2 3 4 5 6]\n"
     ]
    }
   ],
   "source": [
    "#Horizontal join\n",
    "arr=hah.hstack((arr1,arr2))\n",
    "print(\"\\nHorizontal joining:\\n\",arr)\n"
   ]
  },
  {
   "cell_type": "code",
   "execution_count": 11,
   "id": "6cae4b07",
   "metadata": {},
   "outputs": [
    {
     "name": "stdout",
     "output_type": "stream",
     "text": [
      "\n",
      "Vertical joining:\n",
      " [[1 2 3]\n",
      " [4 5 6]]\n"
     ]
    }
   ],
   "source": [
    "#Vertical join\n",
    "arr=hah.vstack((arr1,arr2))\n",
    "print(\"\\nVertical joining:\\n\",arr)"
   ]
  },
  {
   "cell_type": "code",
   "execution_count": 12,
   "id": "d0fbbd69",
   "metadata": {},
   "outputs": [
    {
     "name": "stdout",
     "output_type": "stream",
     "text": [
      "\n",
      "Depth joining:\n",
      " [[[1 4]\n",
      "  [2 5]\n",
      "  [3 6]]]\n"
     ]
    }
   ],
   "source": [
    "#Depth join\n",
    "arr=hah.dstack((arr1,arr2))\n",
    "print(\"\\nDepth joining:\\n\",arr)"
   ]
  },
  {
   "cell_type": "code",
   "execution_count": 13,
   "id": "6db11e9f",
   "metadata": {},
   "outputs": [
    {
     "name": "stdout",
     "output_type": "stream",
     "text": [
      "\n",
      "Original Array:\n",
      " [1 2 3 4 5 6]\n",
      "\n",
      "Splitted array:\n",
      " [array([1, 2]), array([3, 4]), array([5, 6])]\n"
     ]
    }
   ],
   "source": [
    "#splitting array\n",
    "arr=hah.array([1,2,3,4,5,6])\n",
    "newarr=hah.array_split(arr,3)\n",
    "print(\"\\nOriginal Array:\\n\",arr)\n",
    "print(\"\\nSplitted array:\\n\",newarr)"
   ]
  },
  {
   "cell_type": "code",
   "execution_count": 14,
   "id": "ed056c29",
   "metadata": {},
   "outputs": [
    {
     "name": "stdout",
     "output_type": "stream",
     "text": [
      "\n",
      "splitted array in another form:\n",
      "\n",
      "[1 2]\n",
      "[3 4]\n",
      "[5 6]\n"
     ]
    }
   ],
   "source": [
    "#Display splitted array in another form\n",
    "print(\"\\nsplitted array in another form:\\n\")\n",
    "print(newarr[0])\n",
    "print(newarr[1])\n",
    "print(newarr[2])"
   ]
  },
  {
   "cell_type": "code",
   "execution_count": null,
   "id": "2bbe14b4",
   "metadata": {},
   "outputs": [],
   "source": []
  }
 ],
 "metadata": {
  "kernelspec": {
   "display_name": "Python 3 (ipykernel)",
   "language": "python",
   "name": "python3"
  },
  "language_info": {
   "codemirror_mode": {
    "name": "ipython",
    "version": 3
   },
   "file_extension": ".py",
   "mimetype": "text/x-python",
   "name": "python",
   "nbconvert_exporter": "python",
   "pygments_lexer": "ipython3",
   "version": "3.9.12"
  }
 },
 "nbformat": 4,
 "nbformat_minor": 5
}
