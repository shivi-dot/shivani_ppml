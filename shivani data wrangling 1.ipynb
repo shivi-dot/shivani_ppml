{
 "cells": [
  {
   "cell_type": "code",
   "execution_count": 6,
   "id": "f4a2a6e1",
   "metadata": {},
   "outputs": [
    {
     "name": "stdout",
     "output_type": "stream",
     "text": [
      "original dataframe 1:\n",
      "     name  age\n",
      "0  sally   50\n",
      "1   mary   40\n",
      "2   john   30\n",
      "\n",
      " original dataframe 2:\n",
      "    qualified\n",
      "0       True\n",
      "1      False\n",
      "2      False\n",
      "\n",
      " joining above 2 dataframes using join operation:\n",
      "     name  age  qualified\n",
      "0  sally   50       True\n",
      "1   mary   40      False\n",
      "2   john   30      False\n"
     ]
    }
   ],
   "source": [
    "import pandas as pd\n",
    "data1={\"name\":[\"sally\",\"mary\",\"john\"],\"age\":[50,40,30]}\n",
    "data2={\"qualified\":[True,False,False]}\n",
    "df1=pd.DataFrame(data1)\n",
    "print(\"original dataframe 1:\\n\",df1)\n",
    "df2=pd.DataFrame(data2)\n",
    "print(\"\\n original dataframe 2:\\n\",df2)\n",
    "newdf=df1.join(df2)\n",
    "print(\"\\n joining above 2 dataframes using join operation:\\n\",newdf)\n"
   ]
  },
  {
   "cell_type": "code",
   "execution_count": 12,
   "id": "11d0ab35",
   "metadata": {},
   "outputs": [
    {
     "name": "stdout",
     "output_type": "stream",
     "text": [
      "\n",
      " original dataframe1:\n",
      "    0  1\n",
      "0  1  2\n",
      "1  3  4\n",
      "\n",
      " original dataframe2:\n",
      "    0  1\n",
      "0  5  6\n",
      "1  7  8\n",
      "\n",
      " combining above two dataframes using combine function with some condition:\n",
      "    0  1\n",
      "0  5  6\n",
      "1  7  8\n",
      "\n",
      " original dataframe1:\n",
      "     name  age\n",
      "0  sally   50\n",
      "1   mary   40\n",
      "2   john   30\n",
      "\n",
      " original dataframe2:\n",
      "     name  age\n",
      "0  sally   77\n",
      "1  peter   44\n",
      "2  micky   22\n"
     ]
    }
   ],
   "source": [
    "df1=pd.DataFrame([[1,2],[3,4]])\n",
    "df2=pd.DataFrame([[5,6],[7,8]])\n",
    "def myfunc(a,b):\n",
    "     if(a.sum()>b.sum()):\n",
    "        return a\n",
    "     else:\n",
    "        return b\n",
    "print(\"\\n original dataframe1:\\n\",df1)\n",
    "print(\"\\n original dataframe2:\\n\",df2)\n",
    "print(\"\\n combining above two dataframes using combine function with some condition:\\n\",df1.combine(df2,myfunc))\n",
    "data1={\"name\":[\"sally\",\"mary\",\"john\"],\"age\":[50,40,30]}\n",
    "data2={\"name\":[\"sally\",\"peter\",\"micky\"],\"age\":[77,44,22]}\n",
    "\n",
    "df1=pd.DataFrame(data1)\n",
    "df2=pd.DataFrame(data2)\n",
    "print(\"\\n original dataframe1:\\n\",df1)\n",
    "print(\"\\n original dataframe2:\\n\",df2)\n",
    "\n",
    "\n",
    "\n",
    "\n",
    "\n",
    "\n"
   ]
  },
  {
   "cell_type": "code",
   "execution_count": 15,
   "id": "80ed75c9",
   "metadata": {},
   "outputs": [
    {
     "name": "stdout",
     "output_type": "stream",
     "text": [
      "\n",
      " merge operation:\n",
      "     name  age\n",
      "0  sally   77\n",
      "1  peter   44\n",
      "2  micky   22\n"
     ]
    }
   ],
   "source": [
    "newdf=df1.merge(df2,how='right')\n",
    "print(\"\\n merge operation:\\n\",newdf)\n",
    "\n"
   ]
  },
  {
   "cell_type": "code",
   "execution_count": 23,
   "id": "974a8ec5",
   "metadata": {},
   "outputs": [
    {
     "name": "stdout",
     "output_type": "stream",
     "text": [
      "\n",
      " original dataframe:\n",
      "   team  points  assists  rebounds\n",
      "0    A      88       12        22\n",
      "1    B      91       17        28\n",
      "2    C      99       24        30\n",
      "3    D      94       28        31\n",
      "\n",
      " reshaped dataframe:\n",
      "    team  variable  value\n",
      "0     A    points     88\n",
      "1     B    points     91\n",
      "2     C    points     99\n",
      "3     D    points     94\n",
      "4     A   assists     12\n",
      "5     B   assists     17\n",
      "6     C   assists     24\n",
      "7     D   assists     28\n",
      "8     A  rebounds     22\n",
      "9     B  rebounds     28\n",
      "10    C  rebounds     30\n",
      "11    D  rebounds     31\n"
     ]
    }
   ],
   "source": [
    "#create dataframe\n",
    "df=pd.DataFrame({'team':['A','B','C','D'],'points':[88,91,99,94],'assists':[12,17,24,28],'rebounds':[22,28,30,31]})\n",
    "#view dataframe\n",
    "print(\"\\n original dataframe:\\n\",df)\n",
    "#reshape dataframe from wide format to long format\n",
    "df=pd.melt(df,id_vars='team',value_vars=['points','assists','rebounds'])\n",
    "#view updated dataframe\n",
    "print(\"\\n reshaped dataframe:\\n\",df)"
   ]
  }
 ],
 "metadata": {
  "kernelspec": {
   "display_name": "Python 3 (ipykernel)",
   "language": "python",
   "name": "python3"
  },
  "language_info": {
   "codemirror_mode": {
    "name": "ipython",
    "version": 3
   },
   "file_extension": ".py",
   "mimetype": "text/x-python",
   "name": "python",
   "nbconvert_exporter": "python",
   "pygments_lexer": "ipython3",
   "version": "3.9.12"
  }
 },
 "nbformat": 4,
 "nbformat_minor": 5
}
