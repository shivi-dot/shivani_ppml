{
 "cells": [
  {
   "cell_type": "code",
   "execution_count": 6,
   "id": "321e16c7",
   "metadata": {},
   "outputs": [
    {
     "name": "stdout",
     "output_type": "stream",
     "text": [
      "     Name  Age Marks\n",
      "0     Jai   17    90\n",
      "1  Princi   18    76\n",
      "2   Sanav   17   NaN\n"
     ]
    }
   ],
   "source": [
    "import pandas as pd\n",
    "data = {'Name': ['Jai', 'Princi', 'Sanav'],\n",
    "       'Age': [17,18,17],\n",
    "        'Marks': [90,76,'NaN']}\n",
    "df = pd.DataFrame(data)\n",
    "print(df)"
   ]
  },
  {
   "cell_type": "code",
   "execution_count": 7,
   "id": "fd09b60a",
   "metadata": {},
   "outputs": [
    {
     "name": "stdout",
     "output_type": "stream",
     "text": [
      "     Name  Age  Marks\n",
      "0     Jai   17   90.0\n",
      "1  Princi   18   76.0\n",
      "2   Sanav   17   83.0\n"
     ]
    }
   ],
   "source": [
    "c = avg = 0\n",
    "for ele in df['Marks']:\n",
    "    if str(ele).isnumeric():\n",
    "        c += 1\n",
    "        avg += ele\n",
    "avg/=c\n",
    "    \n",
    "df = df.replace(to_replace=\"NaN\",value=avg)\n",
    "print(df)"
   ]
  },
  {
   "cell_type": "code",
   "execution_count": 8,
   "id": "e132770a",
   "metadata": {},
   "outputs": [
    {
     "name": "stdout",
     "output_type": "stream",
     "text": [
      "     Name  Marks\n",
      "0     Jai   90.0\n",
      "1  Princi   76.0\n",
      "2   Sanav   83.0\n"
     ]
    }
   ],
   "source": [
    "df = df[df['Marks']>=75]\n",
    "df = df.drop(['Age'],axis=1)\n",
    "print(df)"
   ]
  },
  {
   "cell_type": "code",
   "execution_count": 14,
   "id": "9c42084b",
   "metadata": {},
   "outputs": [
    {
     "name": "stdout",
     "output_type": "stream",
     "text": [
      "     Name subject_id  Marks_scored\n",
      "1    Alex       sub1           198\n",
      "2     Amy       sub2            90\n",
      "3   Allen       sub4            87\n",
      "4   Alice       sub6            69\n",
      "5  Ayoung       sub5            78\n",
      "1   Billy       sub2           189\n",
      "2   Brian       sub4            80\n",
      "3    Bran       sub3            79\n",
      "4   Bryce       sub6            97\n",
      "5   Betty       sub5            88\n"
     ]
    }
   ],
   "source": [
    "one = pd.DataFrame({\n",
    "'Name': ['Alex', 'Amy', 'Allen', 'Alice', 'Ayoung'],\n",
    "\"subject_id\":['sub1', 'sub2', 'sub4', 'sub6', 'sub5'],\n",
    "\"Marks_scored\":[198,90,87,69,78]},\n",
    "index=[1,2,3,4,5])\n",
    "two = pd.DataFrame({\n",
    "'Name': ['Billy', 'Brian', 'Bran', 'Bryce', 'Betty'],\n",
    "'subject_id':['sub2', 'sub4', 'sub3', 'sub6', 'sub5'],\n",
    "\"Marks_scored\":[189,80,79,97,88]},\n",
    "index= [1,2,3,4,5])\n",
    "\n",
    "print( pd.concat([one,two]))"
   ]
  },
  {
   "cell_type": "code",
   "execution_count": null,
   "id": "9c7bd8b6",
   "metadata": {},
   "outputs": [],
   "source": []
  }
 ],
 "metadata": {
  "kernelspec": {
   "display_name": "Python 3 (ipykernel)",
   "language": "python",
   "name": "python3"
  },
  "language_info": {
   "codemirror_mode": {
    "name": "ipython",
    "version": 3
   },
   "file_extension": ".py",
   "mimetype": "text/x-python",
   "name": "python",
   "nbconvert_exporter": "python",
   "pygments_lexer": "ipython3",
   "version": "3.9.12"
  }
 },
 "nbformat": 4,
 "nbformat_minor": 5
}
