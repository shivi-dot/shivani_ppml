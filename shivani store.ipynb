{
 "cells": [
  {
   "cell_type": "code",
   "execution_count": 4,
   "id": "1f269f46",
   "metadata": {},
   "outputs": [
    {
     "name": "stdout",
     "output_type": "stream",
     "text": [
      "         a   b   c\n",
      "one     11  21  31\n",
      "two      1  22  32\n",
      "three  315  32  33\n",
      "Taking the input from Dataframe and storing in the Excel file\n"
     ]
    }
   ],
   "source": [
    "import pandas as pd\n",
    "df = pd.DataFrame([[11,21,31],[1,22,32],[315,32,33]],\n",
    "                  index=['one','two','three'],columns=['a','b','c'])\n",
    "print(df)\n",
    "print(\"Taking the input from Dataframe and storing in the Excel file\")\n",
    "df.to_csv(\"E:\\pml csv file - employees.csv\")"
   ]
  },
  {
   "cell_type": "code",
   "execution_count": 8,
   "id": "f07d6080",
   "metadata": {},
   "outputs": [
    {
     "name": "stderr",
     "output_type": "stream",
     "text": [
      "C:\\Users\\Tcs\\AppData\\Local\\Temp\\ipykernel_4720\\22694230.py:4: FutureWarning: The frame.append method is deprecated and will be removed from pandas in a future version. Use pandas.concat instead.\n",
      "  z=x.append(y)\n"
     ]
    }
   ],
   "source": [
    "#Merging two Excel files input into third file\n",
    "x=pd.read_csv('E:\\pml csv file - employees.csv')\n",
    "y=pd.read_csv('E:\\pml csv file - employees.csv')\n",
    "z=x.append(y)\n",
    "#z=pd.cancat([x,y])\n",
    "z.to_csv(\"E:\\pml csv file - employees.csv\")\n"
   ]
  },
  {
   "cell_type": "code",
   "execution_count": 9,
   "id": "cdf6a876",
   "metadata": {},
   "outputs": [
    {
     "name": "stdout",
     "output_type": "stream",
     "text": [
      "  Unnamed: 0    a   b   c\n",
      "1        two    1  22  32\n",
      "1        two    1  22  32\n",
      "0        one   11  21  31\n",
      "0        one   11  21  31\n",
      "2      three  315  32  33\n",
      "2      three  315  32  33\n",
      "   Unnamed: 0.1 Unnamed: 0    a   b   c\n",
      "0             1        two    1  22  32\n",
      "1             1        two    1  22  32\n",
      "2             0        one   11  21  31\n",
      "3             0        one   11  21  31\n",
      "4             2      three  315  32  33\n",
      "5             2      three  315  32  33\n",
      "['Unnamed: 0.1', 'Unnamed: 0', 'a', 'b', 'c']\n",
      "6\n"
     ]
    }
   ],
   "source": [
    "#Sorting the column values\n",
    "df=z.sort_values([\"a\"])\n",
    "print(df)\n",
    "df.to_csv('E:\\pml csv file - employees.csv')\n",
    "df=pd.read_csv('E:\\pml csv file - employees.csv')\n",
    "print(df)\n",
    "print(list(df))\n",
    "print(format(len(df)))"
   ]
  },
  {
   "cell_type": "code",
   "execution_count": null,
   "id": "b31c4e6f",
   "metadata": {},
   "outputs": [],
   "source": []
  }
 ],
 "metadata": {
  "kernelspec": {
   "display_name": "Python 3 (ipykernel)",
   "language": "python",
   "name": "python3"
  },
  "language_info": {
   "codemirror_mode": {
    "name": "ipython",
    "version": 3
   },
   "file_extension": ".py",
   "mimetype": "text/x-python",
   "name": "python",
   "nbconvert_exporter": "python",
   "pygments_lexer": "ipython3",
   "version": "3.9.12"
  }
 },
 "nbformat": 4,
 "nbformat_minor": 5
}
