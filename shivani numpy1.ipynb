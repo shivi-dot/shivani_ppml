{
 "cells": [
  {
   "cell_type": "code",
   "execution_count": 1,
   "id": "02ffeb77",
   "metadata": {},
   "outputs": [
    {
     "name": "stdout",
     "output_type": "stream",
     "text": [
      "[1 2 3 4]\n"
     ]
    }
   ],
   "source": [
    "import numpy as hah\n",
    "a=hah.array([1,2,3,4])\n",
    "print(a)"
   ]
  },
  {
   "cell_type": "code",
   "execution_count": 2,
   "id": "8dd64146",
   "metadata": {},
   "outputs": [
    {
     "name": "stdout",
     "output_type": "stream",
     "text": [
      "[[ 1  2  3  4]\n",
      " [ 5  6  7  8]\n",
      " [ 9 10 11 12]\n",
      " [13 14 15 16]]\n",
      "THE ELEMENT IN ARRAY IS [[0. 0. 0. 0.]\n",
      " [0. 0. 0. 0.]\n",
      " [0. 0. 0. 0.]]\n",
      "[[7 7 7]\n",
      " [7 7 7]\n",
      " [7 7 7]]\n",
      "[[0.42304425 0.52441804 0.47493733]\n",
      " [0.74837347 0.09000861 0.71190394]\n",
      " [0.20419018 0.78360556 0.49728437]]\n",
      "[10 25 40 55 70 85]\n",
      "[[ 1  2  3  4]\n",
      " [ 5  6  7  8]\n",
      " [ 9 10 11 12]\n",
      " [13 14 15 16]]\n",
      "[ 1  2  3  4  5  6  7  8  9 10 11 12 13 14 15 16]\n",
      "2\n",
      "(4, 4)\n",
      "16\n",
      "int32\n",
      "[[ 1.  2.  3.  4.]\n",
      " [ 5.  6.  7.  8.]\n",
      " [ 9. 10. 11. 12.]\n",
      " [13. 14. 15. 16.]]\n",
      "[[ 1  2  3  4]\n",
      " [ 5  6  7  8]\n",
      " [ 9 10 11 12]\n",
      " [13 14 15 16]]\n",
      "[[ 1  2  3  4]\n",
      " [ 9 10 11 12]]\n"
     ]
    }
   ],
   "source": [
    "import numpy as hah\n",
    "a=hah.array([[1,2,3,4],[5,6,7,8],[9,10,11,12],[13,14,15,16]])\n",
    "print(a)\n",
    "b=hah.zeros((3,4))\n",
    "print(\"THE ELEMENT IN ARRAY IS\",b)\n",
    "c=hah.full((3,3),7)\n",
    "print(c)\n",
    "d=hah.random.random((3,3))\n",
    "print(d)\n",
    "e=hah.arange(10,99,15)\n",
    "print(e)\n",
    "a.reshape(4,4)\n",
    "print(a)\n",
    "f=a.flatten()\n",
    "print(f)\n",
    "print(a.ndim)\n",
    "print(a.shape)\n",
    "print(a.size)\n",
    "print(a.dtype)\n",
    "g=a.astype('f')\n",
    "print(g)\n",
    "print(a)\n",
    "print(a[0:3:2])\n"
   ]
  },
  {
   "cell_type": "code",
   "execution_count": null,
   "id": "f8969be9",
   "metadata": {},
   "outputs": [],
   "source": []
  }
 ],
 "metadata": {
  "kernelspec": {
   "display_name": "Python 3 (ipykernel)",
   "language": "python",
   "name": "python3"
  },
  "language_info": {
   "codemirror_mode": {
    "name": "ipython",
    "version": 3
   },
   "file_extension": ".py",
   "mimetype": "text/x-python",
   "name": "python",
   "nbconvert_exporter": "python",
   "pygments_lexer": "ipython3",
   "version": "3.9.12"
  }
 },
 "nbformat": 4,
 "nbformat_minor": 5
}
