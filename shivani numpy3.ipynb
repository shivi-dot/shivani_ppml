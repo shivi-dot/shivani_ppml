{
 "cells": [
  {
   "cell_type": "code",
   "execution_count": 2,
   "id": "79d34287",
   "metadata": {},
   "outputs": [
    {
     "name": "stdout",
     "output_type": "stream",
     "text": [
      "Original array: [2 3 4 5 6 6]\n",
      "\n",
      "Indexes where the value is 4 (array([2], dtype=int64),)\n"
     ]
    }
   ],
   "source": [
    "import numpy as hah\n",
    "#indicies where the value is 4:\n",
    "arr=hah.array([2,3,4,5,6,6])\n",
    "print(\"Original array:\",arr)\n",
    "x=hah.where(arr==4)\n",
    "print(\"\\nIndexes where the value is 4\",x)\n"
   ]
  },
  {
   "cell_type": "code",
   "execution_count": 3,
   "id": "3b319794",
   "metadata": {},
   "outputs": [
    {
     "name": "stdout",
     "output_type": "stream",
     "text": [
      "Original array: [2 3 4 5 6 7]\n",
      "\n",
      "Indexes where the values are even (array([0, 2, 4], dtype=int64),)\n"
     ]
    }
   ],
   "source": [
    "#indexes where the values are even:\n",
    "arr=hah.array([2,3,4,5,6,7])\n",
    "x=hah.where(arr%2==0)\n",
    "print(\"Original array:\",arr)\n",
    "print(\"\\nIndexes where the values are even\",x)"
   ]
  },
  {
   "cell_type": "code",
   "execution_count": 4,
   "id": "79f45144",
   "metadata": {},
   "outputs": [
    {
     "name": "stdout",
     "output_type": "stream",
     "text": [
      "\n",
      "indexes where the value 3 should be inserted,starting from the right: 1\n"
     ]
    }
   ],
   "source": [
    "#indexes where the value 3 should be inserted,starting from the right\n",
    "x=hah.searchsorted(arr,3,side='left')\n",
    "print(\"\\nindexes where the value 3 should be inserted,starting from the right:\",x)"
   ]
  },
  {
   "cell_type": "code",
   "execution_count": 5,
   "id": "af43463b",
   "metadata": {},
   "outputs": [
    {
     "name": "stdout",
     "output_type": "stream",
     "text": [
      "\n",
      "Original array: [3 2 0 1]\n",
      "\n",
      "Sorted array: [0 1 2 3]\n",
      "\n",
      "Original array: [[3 2 4]\n",
      " [5 0 1]]\n",
      "\n",
      "Sorted array: [[2 3 4]\n",
      " [0 1 5]]\n"
     ]
    }
   ],
   "source": [
    "#Sorting the array\n",
    "arr=hah.array([3,2,0,1])\n",
    "print(\"\\nOriginal array:\",arr)\n",
    "print(\"\\nSorted array:\",hah.sort(arr))\n",
    "arr=hah.array([[3,2,4],[5,0,1]])\n",
    "print(\"\\nOriginal array:\",arr)\n",
    "print(\"\\nSorted array:\",hah.sort(arr))"
   ]
  },
  {
   "cell_type": "code",
   "execution_count": 8,
   "id": "2daaa5ad",
   "metadata": {},
   "outputs": [
    {
     "name": "stdout",
     "output_type": "stream",
     "text": [
      "\n",
      "Original array: [40 41 42 43]\n",
      "\n",
      "Filter index: [True, False, True, False]\n",
      "\n",
      "Filter array: [40 42]\n",
      "\n",
      "Original array: [40 41 42 43]\n",
      "\n",
      "Filter array:condition->42: [False False False  True]\n",
      "\n",
      "New array: [43]\n"
     ]
    }
   ],
   "source": [
    "#Filter\n",
    "arr=hah.array([40,41,42,43])\n",
    "x=[True,False,True,False]\n",
    "newarr=arr[x]\n",
    "print(\"\\nOriginal array:\",arr)\n",
    "print(\"\\nFilter index:\",x)\n",
    "print(\"\\nFilter array:\",newarr)\n",
    "arr=hah.array([40,41,42,43])\n",
    "filter_arr=arr>42\n",
    "newarr=arr[filter_arr]\n",
    "print(\"\\nOriginal array:\",arr)\n",
    "print(\"\\nFilter array:condition->42:\",filter_arr)\n",
    "print(\"\\nNew array:\",newarr)"
   ]
  },
  {
   "cell_type": "code",
   "execution_count": null,
   "id": "5e01d354",
   "metadata": {},
   "outputs": [],
   "source": []
  }
 ],
 "metadata": {
  "kernelspec": {
   "display_name": "Python 3 (ipykernel)",
   "language": "python",
   "name": "python3"
  },
  "language_info": {
   "codemirror_mode": {
    "name": "ipython",
    "version": 3
   },
   "file_extension": ".py",
   "mimetype": "text/x-python",
   "name": "python",
   "nbconvert_exporter": "python",
   "pygments_lexer": "ipython3",
   "version": "3.9.12"
  }
 },
 "nbformat": 4,
 "nbformat_minor": 5
}
