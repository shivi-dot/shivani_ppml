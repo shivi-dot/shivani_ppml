{
 "cells": [
  {
   "cell_type": "code",
   "execution_count": 1,
   "id": "fad75022",
   "metadata": {},
   "outputs": [],
   "source": [
    "#Open a text file in 'write mode' to write the given lines\n",
    "f=open(\"E:\\shivani.txt\",'w')\n",
    "f.write(\"first line\\n\")\n",
    "f.write(\"second line\\n\")\n",
    "f.write(\"third line\\n\")\n",
    "f.close()"
   ]
  },
  {
   "cell_type": "code",
   "execution_count": 2,
   "id": "00f79354",
   "metadata": {},
   "outputs": [
    {
     "name": "stdout",
     "output_type": "stream",
     "text": [
      "first line\n",
      "\n",
      "second line\n",
      "\n",
      "third line\n",
      "\n"
     ]
    }
   ],
   "source": [
    "#open a text file in \"Read mode\" to read and print the available lines readline function\n",
    "k=open(\"E:\\shivani.txt\",'r')\n",
    "print(k.readline())\n",
    "print(k.readline())\n",
    "print(k.readline())\n",
    "k.close()"
   ]
  },
  {
   "cell_type": "code",
   "execution_count": 1,
   "id": "adec486f",
   "metadata": {},
   "outputs": [],
   "source": [
    "#Open a text file in 'Append' mode to add/append new line inputs\n",
    "m=open(\"E:\\shivani.txt\",'a')\n",
    "m.write(\"fourth line\\n\")\n",
    "m.write(\"five line\\n\")\n",
    "m.close()"
   ]
  },
  {
   "cell_type": "code",
   "execution_count": 2,
   "id": "0366bfce",
   "metadata": {},
   "outputs": [
    {
     "name": "stdout",
     "output_type": "stream",
     "text": [
      "first line\n",
      "second line\n",
      "third line\n",
      "fourth line\n",
      "five line\n",
      "\n",
      "['first line\\n', 'second line\\n', 'third line\\n', 'fourth line\\n', 'five line\\n']\n"
     ]
    }
   ],
   "source": [
    "#open a text file in 'Read'mode to read and print the available full text-read function\n",
    "p=open(\"E:\\shivani.txt\",'r')\n",
    "print(p.read())\n",
    "p.close()\n",
    "with open(\"E:\\shivani.txt\",'r')as file:\n",
    "    lines=file.readlines()\n",
    "    print(lines)\n",
    "import json    "
   ]
  },
  {
   "cell_type": "code",
   "execution_count": 3,
   "id": "3dbbd681",
   "metadata": {},
   "outputs": [
    {
     "name": "stdout",
     "output_type": "stream",
     "text": [
      "30\n"
     ]
    }
   ],
   "source": [
    "#some JSON:\n",
    "import json\n",
    "x='{\"name\":\"john\",\"age\":30,\"city\":\"New York\"}'\n",
    "#parse x:\n",
    "y=json.loads(x)\n",
    "#the result is a python dictionary:\n",
    "print(y[\"age\"])\n"
   ]
  },
  {
   "cell_type": "code",
   "execution_count": 4,
   "id": "2d15b523",
   "metadata": {},
   "outputs": [
    {
     "data": {
      "text/plain": [
       "{'name': 'john', 'age': 30, 'city': 'NewYork'}"
      ]
     },
     "execution_count": 4,
     "metadata": {},
     "output_type": "execute_result"
    }
   ],
   "source": [
    "# a python object(dict):\n",
    "x\n",
    "{\n",
    "    \"name\":\"john\",\n",
    "    \"age\":30,\n",
    "    \"city\":\"NewYork\"\n",
    "}\n"
   ]
  },
  {
   "cell_type": "code",
   "execution_count": 5,
   "id": "f4f04d02",
   "metadata": {},
   "outputs": [
    {
     "name": "stdout",
     "output_type": "stream",
     "text": [
      "\"{\\\"name\\\":\\\"john\\\",\\\"age\\\":30,\\\"city\\\":\\\"New York\\\"}\"\n"
     ]
    }
   ],
   "source": [
    "#convert into JSON:\n",
    "y=json.dumps(x)\n",
    "#the result is a JSON string:\n",
    "print(y)"
   ]
  },
  {
   "cell_type": "code",
   "execution_count": null,
   "id": "e26ce1e4",
   "metadata": {},
   "outputs": [],
   "source": []
  }
 ],
 "metadata": {
  "kernelspec": {
   "display_name": "Python 3 (ipykernel)",
   "language": "python",
   "name": "python3"
  },
  "language_info": {
   "codemirror_mode": {
    "name": "ipython",
    "version": 3
   },
   "file_extension": ".py",
   "mimetype": "text/x-python",
   "name": "python",
   "nbconvert_exporter": "python",
   "pygments_lexer": "ipython3",
   "version": "3.9.12"
  }
 },
 "nbformat": 4,
 "nbformat_minor": 5
}
