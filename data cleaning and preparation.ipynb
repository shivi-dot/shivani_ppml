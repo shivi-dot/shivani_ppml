{
 "cells": [
  {
   "cell_type": "code",
   "execution_count": 1,
   "id": "f334c8bf",
   "metadata": {},
   "outputs": [
    {
     "name": "stdout",
     "output_type": "stream",
     "text": [
      "Original DataFrame with NaN\n",
      "         one       two     three\n",
      "a  2.032639  0.180174  0.345740\n",
      "b       NaN       NaN       NaN\n",
      "c -1.206376  1.300622  1.511809\n",
      "d       NaN       NaN       NaN\n",
      "e -0.697021 -0.879258  1.551973\n",
      "f  0.887304 -1.246944  1.286195\n",
      "g       NaN       NaN       NaN\n",
      "h  0.732405 -0.393438  1.129085\n",
      "\n",
      "\n"
     ]
    }
   ],
   "source": [
    "import pandas as pd\n",
    "import numpy as np\n",
    "df = pd.DataFrame(np.random.randn(5,3),index=['a','c','e','f','h'],columns=['one','two','three'])\n",
    "df=df.reindex(['a','b','c','d','e','f','g','h'])\n",
    "print(\"Original DataFrame with NaN\\n\",df)\n",
    "print(\"\\n\")\n"
   ]
  },
  {
   "cell_type": "code",
   "execution_count": 7,
   "id": "faa56795",
   "metadata": {},
   "outputs": [
    {
     "name": "stdout",
     "output_type": "stream",
     "text": [
      "Original DataFrame:\n",
      "         one       two     three\n",
      "a  0.508552 -0.268771  0.489174\n",
      "b       NaN       NaN       NaN\n",
      "c -0.633428 -1.925328  0.072260\n",
      "\n",
      "\n",
      "NaN repalced with '0':\n",
      "\n",
      "        one       two     three\n",
      "a  0.508552 -0.268771  0.489174\n",
      "b  0.000000  0.000000  0.000000\n",
      "c -0.633428 -1.925328  0.072260\n"
     ]
    }
   ],
   "source": [
    "df = pd.DataFrame(np.random.randn(3,3),index=['a','c','e'],columns=['one','two','three'])\n",
    "df=df.reindex(['a','b','c'])\n",
    "print(\"Original DataFrame:\\n\",df)\n",
    "print(\"\\n\")\n",
    "print(\"NaN repalced with '0':\\n\")\n",
    "print(df.fillna(0))\n"
   ]
  },
  {
   "cell_type": "code",
   "execution_count": 6,
   "id": "25a0ac7b",
   "metadata": {},
   "outputs": [
    {
     "name": "stdout",
     "output_type": "stream",
     "text": [
      "Original DataFrame:\n",
      "     one   two\n",
      "0    10  1000\n",
      "1    20     0\n",
      "2    30    30\n",
      "3    40    40\n",
      "4    50    50\n",
      "5  2000    60\n",
      "\n",
      " DataFrame with replaced values:\n",
      "\n",
      "   one  two\n",
      "0   10   10\n",
      "1   20  100\n",
      "2   30   30\n",
      "3  400  400\n",
      "4   50   50\n",
      "5   60   60\n"
     ]
    }
   ],
   "source": [
    "df=pd.DataFrame({'one':[10,20,30,40,50,2000],'two':[1000,0,30,40,50,60]})\n",
    "print(\"Original DataFrame:\\n\",df)\n",
    "print(\"\\n DataFrame with replaced values:\\n\")\n",
    "print(df.replace({1000:10,2000:60,40:400,0:100}))"
   ]
  },
  {
   "cell_type": "code",
   "execution_count": 8,
   "id": "6b1e7ccb",
   "metadata": {},
   "outputs": [
    {
     "name": "stdout",
     "output_type": "stream",
     "text": [
      "Original DataFrame:\n",
      "         one       two     three\n",
      "a -0.380799 -0.000289  1.624284\n",
      "b       NaN       NaN       NaN\n",
      "c  0.066635 -1.596572  0.589568\n",
      "d       NaN       NaN       NaN\n",
      "e -0.233907 -0.183562 -0.561452\n",
      "f  0.885832 -0.420967 -0.351432\n",
      "g       NaN       NaN       NaN\n",
      "h  0.486118 -0.841734  0.040021\n",
      "\n",
      "NaN-with True fill:\n",
      "\n",
      "a    False\n",
      "b     True\n",
      "c    False\n",
      "d     True\n",
      "e    False\n",
      "f    False\n",
      "g     True\n",
      "h    False\n",
      "Name: one, dtype: bool\n"
     ]
    }
   ],
   "source": [
    "df = pd.DataFrame(np.random.randn(5,3),index=['a','c','e','f','h'],columns=['one','two','three'])\n",
    "df=df.reindex(['a','b','c','d','e','f','g','h'])\n",
    "print(\"Original DataFrame:\\n\",df)\n",
    "print(\"\\nNaN-with True fill:\\n\")\n",
    "print(df['one'].isnull())\n"
   ]
  },
  {
   "cell_type": "code",
   "execution_count": 9,
   "id": "84ef8767",
   "metadata": {},
   "outputs": [
    {
     "name": "stdout",
     "output_type": "stream",
     "text": [
      "Original DataFrame:\n",
      "         one       two     three\n",
      "a  0.090835  2.100362 -0.308003\n",
      "b       NaN       NaN       NaN\n",
      "c -1.298506 -2.130213 -0.685502\n",
      "d       NaN       NaN       NaN\n",
      "e -1.012864 -0.031910 -0.682133\n",
      "f -0.913688 -0.360547 -0.194687\n",
      "g       NaN       NaN       NaN\n",
      "h  0.486094 -1.366800 -0.805778\n",
      "\n",
      "NaN- Filled with Forward values:\n",
      "\n",
      "        one       two     three\n",
      "a  0.090835  2.100362 -0.308003\n",
      "b  0.090835  2.100362 -0.308003\n",
      "c -1.298506 -2.130213 -0.685502\n",
      "d -1.298506 -2.130213 -0.685502\n",
      "e -1.012864 -0.031910 -0.682133\n",
      "f -0.913688 -0.360547 -0.194687\n",
      "g -0.913688 -0.360547 -0.194687\n",
      "h  0.486094 -1.366800 -0.805778\n",
      "\n",
      "NaN- Filled with Background values:\n",
      "\n",
      "        one       two     three\n",
      "a  0.090835  2.100362 -0.308003\n",
      "b -1.298506 -2.130213 -0.685502\n",
      "c -1.298506 -2.130213 -0.685502\n",
      "d -1.012864 -0.031910 -0.682133\n",
      "e -1.012864 -0.031910 -0.682133\n",
      "f -0.913688 -0.360547 -0.194687\n",
      "g  0.486094 -1.366800 -0.805778\n",
      "h  0.486094 -1.366800 -0.805778\n"
     ]
    }
   ],
   "source": [
    "df = pd.DataFrame(np.random.randn(5,3),index=['a','c','e','f','h'],columns=['one','two','three'])\n",
    "df=df.reindex(['a','b','c','d','e','f','g','h'])\n",
    "print(\"Original DataFrame:\\n\",df)\n",
    "print(\"\\nNaN- Filled with Forward values:\\n\")\n",
    "print(df.fillna(method='pad'))\n",
    "print(\"\\nNaN- Filled with Background values:\\n\")\n",
    "print(df.fillna(method='bfill'))\n"
   ]
  },
  {
   "cell_type": "code",
   "execution_count": null,
   "id": "5f0996b7",
   "metadata": {},
   "outputs": [],
   "source": []
  }
 ],
 "metadata": {
  "kernelspec": {
   "display_name": "Python 3 (ipykernel)",
   "language": "python",
   "name": "python3"
  },
  "language_info": {
   "codemirror_mode": {
    "name": "ipython",
    "version": 3
   },
   "file_extension": ".py",
   "mimetype": "text/x-python",
   "name": "python",
   "nbconvert_exporter": "python",
   "pygments_lexer": "ipython3",
   "version": "3.9.12"
  }
 },
 "nbformat": 4,
 "nbformat_minor": 5
}
