{
 "cells": [
  {
   "cell_type": "code",
   "execution_count": 1,
   "id": "dfd54b2e",
   "metadata": {},
   "outputs": [
    {
     "name": "stdout",
     "output_type": "stream",
     "text": [
      "Original arrays\n",
      "[10 20 30 40 50]\n",
      "[ 2  4  6  8 10]\n",
      "\n",
      "Vector addition\n",
      "[12 24 36 48 60]\n",
      "\n",
      "Vector subtraction\n",
      "[ 8 16 24 32 40]\n",
      "\n",
      "Vector multiplication\n",
      "[ 20  80 180 320 500]\n",
      "\n",
      "Vector division\n",
      "[5. 5. 5. 5. 5.]\n",
      "\n",
      "Vector Dot product\n",
      "1100\n",
      "\n",
      "Scalar multiplication\n",
      "scalar value= 5\n",
      "array= [10 20 30 40 50]\n",
      "result= [ 50 100 150 200 250]\n"
     ]
    }
   ],
   "source": [
    "import numpy as hah\n",
    "arr1=[10,20,30,40,50]\n",
    "arr2=[2,4,6,8,10]\n",
    "a=hah.array(arr1)\n",
    "b=hah.array(arr2)\n",
    "print(\"Original arrays\")\n",
    "print(a)\n",
    "print(b)\n",
    "print(\"\\nVector addition\")\n",
    "print(a+b)\n",
    "print(\"\\nVector subtraction\")\n",
    "print(a-b)\n",
    "print(\"\\nVector multiplication\")\n",
    "print(a*b)\n",
    "print(\"\\nVector division\")\n",
    "print(a/b)\n",
    "print(\"\\nVector Dot product\")\n",
    "print(a.dot(b))\n",
    "print(\"\\nScalar multiplication\")\n",
    "sclr=5\n",
    "print(\"scalar value=\",sclr)\n",
    "print(\"array=\",a)\n",
    "print(\"result=\",a*sclr)\n"
   ]
  },
  {
   "cell_type": "code",
   "execution_count": 2,
   "id": "b6fe84ca",
   "metadata": {},
   "outputs": [
    {
     "name": "stdout",
     "output_type": "stream",
     "text": [
      "\n",
      "\n",
      "Numpy.Vectorize method\n",
      "Return x-y if x>y,otherwise return x+y)\n",
      "array1: [10, 4, 20]\n",
      "array2: [2, 3, 30]\n",
      "result: [ 8  1 50]\n"
     ]
    }
   ],
   "source": [
    "#Numpy.Vectorize method\n",
    "def my_func(x,y):\n",
    "        #\"Return x-y if x>y,otherwise return x+y\"\n",
    "    if x>y:\n",
    "        return x-y\n",
    "    else:\n",
    "        return x+y\n",
    "print(\"\\n\\nNumpy.Vectorize method\")\n",
    "print(\"Return x-y if x>y,otherwise return x+y)\")\n",
    "arr1=[10,4,20]\n",
    "arr2=[2,3,30]\n",
    "vec_func=hah.vectorize(my_func)\n",
    "print(\"array1:\",arr1)\n",
    "print(\"array2:\",arr2)\n",
    "print(\"result:\",vec_func(arr1,arr2))"
   ]
  },
  {
   "cell_type": "code",
   "execution_count": null,
   "id": "a82bcaf4",
   "metadata": {},
   "outputs": [],
   "source": []
  }
 ],
 "metadata": {
  "kernelspec": {
   "display_name": "Python 3 (ipykernel)",
   "language": "python",
   "name": "python3"
  },
  "language_info": {
   "codemirror_mode": {
    "name": "ipython",
    "version": 3
   },
   "file_extension": ".py",
   "mimetype": "text/x-python",
   "name": "python",
   "nbconvert_exporter": "python",
   "pygments_lexer": "ipython3",
   "version": "3.9.12"
  }
 },
 "nbformat": 4,
 "nbformat_minor": 5
}
